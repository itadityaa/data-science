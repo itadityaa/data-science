{
 "cells": [
  {
   "cell_type": "code",
   "execution_count": null,
   "metadata": {},
   "outputs": [],
   "source": [
    "# kaggle datasets download rm1000/lung-cancer-histopathological-images"
   ]
  }
 ],
 "metadata": {
  "kernelspec": {
   "display_name": "ds-prods",
   "language": "python",
   "name": "python3"
  },
  "language_info": {
   "name": "python",
   "version": "3.8.20"
  }
 },
 "nbformat": 4,
 "nbformat_minor": 2
}
