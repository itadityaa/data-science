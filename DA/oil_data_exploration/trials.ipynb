{
 "cells": [
  {
   "cell_type": "code",
   "execution_count": 28,
   "metadata": {},
   "outputs": [],
   "source": [
    "import os\n",
    "import pandas as pd\n",
    "pd.set_option('display.max_columns', None)\n",
    "from dotenv import load_dotenv\n",
    "import seaborn as sns\n",
    "import matplotlib.pyplot as plt"
   ]
  },
  {
   "cell_type": "code",
   "execution_count": 2,
   "metadata": {},
   "outputs": [
    {
     "name": "stdout",
     "output_type": "stream",
     "text": [
      "d:\\data-science\\DA\\oil_data_exploration\n"
     ]
    }
   ],
   "source": [
    "print(os.getcwd())"
   ]
  },
  {
   "cell_type": "code",
   "execution_count": 3,
   "metadata": {},
   "outputs": [],
   "source": [
    "load_dotenv();"
   ]
  },
  {
   "cell_type": "code",
   "execution_count": 4,
   "metadata": {},
   "outputs": [],
   "source": [
    "base_ngl_data_name = 'ngl_'\n",
    "base_vol_data_name = 'vol_'\n",
    "months = 10\n",
    "\n",
    "drilling_events = pd.read_excel(os.getenv('DRILLING_EVENT'), skiprows=2)\n",
    "for month in range(1, months):\n",
    "    if month == 9:\n",
    "        df_name = f'{base_vol_data_name}{month}'\n",
    "        globals()[df_name] = pd.read_csv(os.getenv('VOL_DATA').replace('XX', f'0{month}'), low_memory=False)\n",
    "    else: \n",
    "        df_name = f'{base_ngl_data_name}{month}'\n",
    "        globals()[df_name] = pd.read_csv(os.getenv('NGL_DATA').replace('XX', f'0{month}'), low_memory=False)\n",
    "        df_name = f'{base_vol_data_name}{month}'\n",
    "        globals()[df_name] = pd.read_csv(os.getenv('VOL_DATA').replace('XX', f'0{month}'), low_memory=False)"
   ]
  },
  {
   "cell_type": "code",
   "execution_count": 5,
   "metadata": {},
   "outputs": [],
   "source": [
    "merged_ngl_df = pd.concat([ngl_6, ngl_7, ngl_8], ignore_index=True)"
   ]
  },
  {
   "cell_type": "code",
   "execution_count": 6,
   "metadata": {},
   "outputs": [],
   "source": [
    "merged_vol_df = pd.concat([vol_6, vol_7, vol_8], ignore_index=True)"
   ]
  },
  {
   "cell_type": "code",
   "execution_count": 7,
   "metadata": {},
   "outputs": [],
   "source": [
    "production_data = pd.read_csv(os.getenv('PRODUCTION'), low_memory=False)\n",
    "minable_oil_sands_well_data = pd.read_csv(os.getenv('MINABLE_WELL_DATA'), low_memory=False)\n",
    "well_infrastructure = pd.read_csv(os.getenv('WELL_INFRASTRUCTURE'), low_memory=False)"
   ]
  },
  {
   "cell_type": "code",
   "execution_count": 14,
   "metadata": {},
   "outputs": [
    {
     "data": {
      "text/plain": [
       "(849, 7)"
      ]
     },
     "execution_count": 14,
     "metadata": {},
     "output_type": "execute_result"
    }
   ],
   "source": [
    "drilling_events.shape"
   ]
  },
  {
   "cell_type": "code",
   "execution_count": 8,
   "metadata": {},
   "outputs": [
    {
     "data": {
      "text/plain": [
       "Well Licence Number    0\n",
       "UWI with /9            0\n",
       "Total Depth            0\n",
       "Spud Date              0\n",
       "Rig Release Date       0\n",
       "Date Updated Date      0\n",
       "Total # of ES          0\n",
       "dtype: int64"
      ]
     },
     "execution_count": 8,
     "metadata": {},
     "output_type": "execute_result"
    }
   ],
   "source": [
    "drilling_events.isnull().sum()"
   ]
  },
  {
   "cell_type": "code",
   "execution_count": 15,
   "metadata": {},
   "outputs": [
    {
     "data": {
      "text/plain": [
       "(321121, 26)"
      ]
     },
     "execution_count": 15,
     "metadata": {},
     "output_type": "execute_result"
    }
   ],
   "source": [
    "merged_ngl_df.shape"
   ]
  },
  {
   "cell_type": "code",
   "execution_count": 26,
   "metadata": {},
   "outputs": [
    {
     "data": {
      "text/plain": [
       "ReportingFacilityID       5163\n",
       "ReportingFacilityName     5163\n",
       "OperatorBAID              5163\n",
       "OperatorName              5163\n",
       "ProductionMonth              0\n",
       "WellID                       0\n",
       "WellLicenseNumber         5091\n",
       "Field                     5091\n",
       "Pool                     34055\n",
       "Hours                        0\n",
       "GasProduction                0\n",
       "OilProduction                0\n",
       "CondensateProduction         0\n",
       "WaterProduction              0\n",
       "ResidueGasVolume             0\n",
       "Energy                       0\n",
       "EthaneMixVolume              0\n",
       "EthaneSpecVolume             0\n",
       "PropaneMixVolume             0\n",
       "PropaneSpecVolume            0\n",
       "ButaneMixVolume              0\n",
       "ButaneSpecVolume             0\n",
       "PentaneMixVolume             0\n",
       "PentaneSpecVolume            0\n",
       "LiteMixVolume                0\n",
       "dtype: int64"
      ]
     },
     "execution_count": 26,
     "metadata": {},
     "output_type": "execute_result"
    }
   ],
   "source": [
    "merged_ngl_df.isnull().sum()"
   ]
  },
  {
   "cell_type": "code",
   "execution_count": 25,
   "metadata": {},
   "outputs": [],
   "source": [
    "threshold = 0.7 * len(merged_ngl_df)\n",
    "merged_ngl_df = merged_ngl_df.dropna(axis=1, thresh=threshold)"
   ]
  },
  {
   "cell_type": "code",
   "execution_count": 16,
   "metadata": {},
   "outputs": [
    {
     "data": {
      "text/plain": [
       "(1617716, 30)"
      ]
     },
     "execution_count": 16,
     "metadata": {},
     "output_type": "execute_result"
    }
   ],
   "source": [
    "merged_vol_df.shape"
   ]
  },
  {
   "cell_type": "code",
   "execution_count": 27,
   "metadata": {},
   "outputs": [
    {
     "data": {
      "text/plain": [
       "ProductionMonth                        0\n",
       "OperatorBAID                           0\n",
       "OperatorName                           0\n",
       "ReportingFacilityID                    0\n",
       "ReportingFacilityProvinceState         0\n",
       "ReportingFacilityType                  0\n",
       "ReportingFacilityIdentifier            0\n",
       "ReportingFacilityName                  0\n",
       "ReportingFacilitySubType               0\n",
       "ReportingFacilitySubTypeDesc           0\n",
       "ReportingFacilityLocation              0\n",
       "FacilityLegalSubdivision               0\n",
       "FacilitySection                        0\n",
       "FacilityTownship                       0\n",
       "FacilityRange                          0\n",
       "FacilityMeridian                       0\n",
       "SubmissionDate                        44\n",
       "ActivityID                         23970\n",
       "ProductID                          74653\n",
       "FromToID                          276936\n",
       "FromToIDProvinceState             325331\n",
       "FromToIDType                      325331\n",
       "FromToIDIdentifier                280889\n",
       "Volume                             74653\n",
       "CCICode                            72365\n",
       "dtype: int64"
      ]
     },
     "execution_count": 27,
     "metadata": {},
     "output_type": "execute_result"
    }
   ],
   "source": [
    "merged_vol_df.isnull().sum()"
   ]
  },
  {
   "cell_type": "code",
   "execution_count": 24,
   "metadata": {},
   "outputs": [],
   "source": [
    "threshold = 0.7 * len(merged_vol_df)\n",
    "merged_vol_df = merged_vol_df.dropna(axis=1, thresh=threshold)"
   ]
  },
  {
   "cell_type": "code",
   "execution_count": 17,
   "metadata": {},
   "outputs": [
    {
     "data": {
      "text/plain": [
       "(680, 5)"
      ]
     },
     "execution_count": 17,
     "metadata": {},
     "output_type": "execute_result"
    }
   ],
   "source": [
    "production_data.shape"
   ]
  },
  {
   "cell_type": "code",
   "execution_count": 11,
   "metadata": {},
   "outputs": [
    {
     "data": {
      "text/plain": [
       "Date             0\n",
       "Oil Monthly      0\n",
       "Gas Monthly      0\n",
       "Water Monthly    0\n",
       "Wells Monthly    0\n",
       "dtype: int64"
      ]
     },
     "execution_count": 11,
     "metadata": {},
     "output_type": "execute_result"
    }
   ],
   "source": [
    "production_data.isnull().sum()"
   ]
  },
  {
   "cell_type": "code",
   "execution_count": 18,
   "metadata": {},
   "outputs": [
    {
     "data": {
      "text/plain": [
       "(236, 14)"
      ]
     },
     "execution_count": 18,
     "metadata": {},
     "output_type": "execute_result"
    }
   ],
   "source": [
    "minable_oil_sands_well_data.shape"
   ]
  },
  {
   "cell_type": "code",
   "execution_count": 12,
   "metadata": {},
   "outputs": [
    {
     "data": {
      "text/plain": [
       "BHID         0\n",
       "CPA-ID      40\n",
       "X83          0\n",
       "Y83          0\n",
       "Z            0\n",
       "FROM         0\n",
       "TO           0\n",
       "LENGTH       0\n",
       "CORGR        0\n",
       "CALEGR       0\n",
       "GRADE        0\n",
       "SHALE        0\n",
       "POROSITY     0\n",
       "WATER        0\n",
       "dtype: int64"
      ]
     },
     "execution_count": 12,
     "metadata": {},
     "output_type": "execute_result"
    }
   ],
   "source": [
    "minable_oil_sands_well_data.isnull().sum()"
   ]
  },
  {
   "cell_type": "code",
   "execution_count": 19,
   "metadata": {},
   "outputs": [
    {
     "data": {
      "text/plain": [
       "(658134, 72)"
      ]
     },
     "execution_count": 19,
     "metadata": {},
     "output_type": "execute_result"
    }
   ],
   "source": [
    "well_infrastructure.shape"
   ]
  },
  {
   "cell_type": "code",
   "execution_count": 23,
   "metadata": {},
   "outputs": [
    {
     "data": {
      "text/plain": [
       "WellID                                        0\n",
       "WellProvinceState                             0\n",
       "WellType                                      0\n",
       "WellIdentifier                                0\n",
       "WellLocationException                         0\n",
       "WellLegalSubdivision                          0\n",
       "WellSection                                   0\n",
       "WellTownship                                  0\n",
       "WellRange                                     0\n",
       "WellMeridian                                  0\n",
       "WellEventSequence                             0\n",
       "WellName                                      1\n",
       "ConfidentialType                              0\n",
       "ExperimentalConfidentialIndicator             0\n",
       "LicenceType                                   0\n",
       "LicenceNumber                                 0\n",
       "LinkedFacilityProvinceState                   0\n",
       "LinkedFacilityType                            0\n",
       "LinkedFacilitySubType                         0\n",
       "Field                                         0\n",
       "FieldName                                     0\n",
       "WellStatusMode                           108279\n",
       "WellStatusFluidCode                           0\n",
       "WellStatusModeCode                            0\n",
       "WellStatusTypeCode                            0\n",
       "WellStatusStructureCode                       0\n",
       "WellStatusDate                                0\n",
       "SpudDate                                   4079\n",
       "FinishedDrillDate                          4343\n",
       "FinalTotalDepth                            4147\n",
       "LicenseeID                                    0\n",
       "LicenseeName                                  0\n",
       "CommingledReportingWellProvinceState          0\n",
       "CommingledReportingWellType                   0\n",
       "CommingledLinkedFacilityProvinceState         0\n",
       "CommingledLinkedFacilityType                  0\n",
       "AllowableType                                 0\n",
       "RecoveryMechanismType                     73926\n",
       "LicenceIssueDate                              0\n",
       "LicenceStatusDate                           153\n",
       "LicenceStatus                                 0\n",
       "OrphanWellFlg                                 0\n",
       "dtype: int64"
      ]
     },
     "execution_count": 23,
     "metadata": {},
     "output_type": "execute_result"
    }
   ],
   "source": [
    "well_infrastructure.isnull().sum()"
   ]
  },
  {
   "cell_type": "code",
   "execution_count": null,
   "metadata": {},
   "outputs": [],
   "source": [
    "threshold = 0.7 * len(well_infrastructure)\n",
    "well_infrastructure = well_infrastructure.dropna(axis=1, thresh=threshold)"
   ]
  },
  {
   "cell_type": "code",
   "execution_count": null,
   "metadata": {},
   "outputs": [],
   "source": []
  }
 ],
 "metadata": {
  "kernelspec": {
   "display_name": "ds-prods",
   "language": "python",
   "name": "python3"
  },
  "language_info": {
   "codemirror_mode": {
    "name": "ipython",
    "version": 3
   },
   "file_extension": ".py",
   "mimetype": "text/x-python",
   "name": "python",
   "nbconvert_exporter": "python",
   "pygments_lexer": "ipython3",
   "version": "3.8.20"
  }
 },
 "nbformat": 4,
 "nbformat_minor": 2
}
